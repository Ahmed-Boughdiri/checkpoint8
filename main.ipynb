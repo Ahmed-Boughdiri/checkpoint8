{
 "metadata": {
  "language_info": {
   "codemirror_mode": {
    "name": "ipython",
    "version": 3
   },
   "file_extension": ".py",
   "mimetype": "text/x-python",
   "name": "python",
   "nbconvert_exporter": "python",
   "pygments_lexer": "ipython3",
   "version": "3.8.3-final"
  },
  "orig_nbformat": 2,
  "kernelspec": {
   "name": "python3",
   "display_name": "Python 3.8.3 64-bit (conda)",
   "metadata": {
    "interpreter": {
     "hash": "3a7853f465984184c2db926f12cf0514f49bd82ebd08c64e7d47bb74214f72b4"
    }
   }
  }
 },
 "nbformat": 4,
 "nbformat_minor": 2,
 "cells": [
  {
   "cell_type": "code",
   "execution_count": null,
   "metadata": {},
   "outputs": [],
   "source": [
    "import pandas as pd\n",
    "from sklearn.cluster import AgglomerativeClustering #Importing our clustering algorithm : Agglomerative\n",
    "import matplotlib.pyplot as plt\n",
    "import matplotlib.pyplot as plt\n",
    "import scipy.cluster.hierarchy as shc\n",
    "from sklearn.cluster import KMeans  #Importing our clustering algorithm: KMeans"
   ]
  },
  {
   "cell_type": "code",
   "execution_count": null,
   "metadata": {},
   "outputs": [],
   "source": [
    "# Loading The Dataset\n",
    "def load_data():\n",
    "  data = pd.read_csv(\"data.csv\")\n",
    "  return data"
   ]
  },
  {
   "cell_type": "code",
   "execution_count": null,
   "metadata": {},
   "outputs": [],
   "source": [
    "data = load_data()"
   ]
  },
  {
   "cell_type": "code",
   "execution_count": null,
   "metadata": {},
   "outputs": [],
   "source": [
    "data.info()"
   ]
  },
  {
   "cell_type": "code",
   "execution_count": null,
   "metadata": {},
   "outputs": [],
   "source": [
    "data.isnull().sum()"
   ]
  },
  {
   "cell_type": "code",
   "execution_count": null,
   "metadata": {},
   "outputs": [],
   "source": [
    "def data_preprocessing(data):\n",
    "  data.drop(\"CUST_ID\", axis=1, inplace=True)\n",
    "  data[\"MINIMUM_PAYMENTS\"].fillna(data[\"MINIMUM_PAYMENTS\"].mean(), inplace=True)\n",
    "  data.dropna(inplace=True)\n",
    "  return data"
   ]
  },
  {
   "cell_type": "code",
   "execution_count": null,
   "metadata": {},
   "outputs": [],
   "source": [
    "data = data_preprocessing(data)"
   ]
  },
  {
   "cell_type": "code",
   "execution_count": null,
   "metadata": {},
   "outputs": [],
   "source": [
    "data"
   ]
  },
  {
   "cell_type": "code",
   "execution_count": null,
   "metadata": {},
   "outputs": [],
   "source": [
    "data.isnull().sum()"
   ]
  },
  {
   "cell_type": "code",
   "execution_count": null,
   "metadata": {},
   "outputs": [],
   "source": [
    "def hirarchical_clustering():\n",
    "  global data\n",
    "  model=AgglomerativeClustering(n_clusters=5, affinity='euclidean', linkage='complete')\n",
    "  clust_labels=model.fit_predict(data) \n",
    "  return clust_labels"
   ]
  },
  {
   "cell_type": "code",
   "execution_count": null,
   "metadata": {},
   "outputs": [],
   "source": [
    "agglomerative=pd.DataFrame(hirarchical_clustering())\n",
    "agglomerative"
   ]
  },
  {
   "cell_type": "code",
   "execution_count": null,
   "metadata": {},
   "outputs": [],
   "source": [
    "\"\"\"\n",
    "Indentify the inherit Grouping within your data\n",
    "\"\"\""
   ]
  },
  {
   "cell_type": "code",
   "execution_count": null,
   "metadata": {},
   "outputs": [],
   "source": [
    "def plot_hirarchical_clustering():\n",
    "  fig =plt.figure()\n",
    "  ax = fig.add_subplot(111)\n",
    "  scatter = ax.scatter (data ['BALANCE'] , data [\"PURCHASES\"] , c= agglomerative[0], s=50)\n",
    "  # ax.set_title(\"Agglomerative Clutering\")\n",
    "  # ax.set_xlabel(\"Annual Income (k$)\")\n",
    "  # ax.set_ylabel(\"Spending Score (1-100)\")\n",
    "  plt.colorbar(scatter)"
   ]
  },
  {
   "cell_type": "code",
   "execution_count": null,
   "metadata": {},
   "outputs": [],
   "source": [
    "plot_hirarchical_clustering()"
   ]
  },
  {
   "cell_type": "code",
   "execution_count": null,
   "metadata": {},
   "outputs": [],
   "source": [
    "def plot_dendrogram():\n",
    "  plt.figure(figsize=(10,7))\n",
    "  plt.title(\"Customer Dendrograms\")\n",
    "  dend=shc.dendrogram(shc.linkage(data, method=\"complete\"))"
   ]
  },
  {
   "cell_type": "code",
   "execution_count": null,
   "metadata": {},
   "outputs": [],
   "source": [
    "plot_dendrogram()"
   ]
  },
  {
   "cell_type": "code",
   "execution_count": null,
   "metadata": {},
   "outputs": [],
   "source": [
    "def k_mean_clustering():\n",
    "  kmeans=KMeans(n_clusters=5, random_state=0)  #Cluster our data by choosing 5 as number of clusters\n",
    "  kmeans.fit(data)\n",
    "  kmeans.predict(data)\n",
    "  print(kmeans.cluster_centers_)   #Printing the coordinates of cluster centers."
   ]
  },
  {
   "cell_type": "code",
   "execution_count": null,
   "metadata": {},
   "outputs": [],
   "source": [
    "k_mean_clustering()"
   ]
  },
  {
   "cell_type": "code",
   "execution_count": null,
   "metadata": {},
   "outputs": [],
   "source": [
    "def k_mean_clustering2():\n",
    "  kmeans=KMeans(n_clusters=5, random_state=1)  #Cluster our data by choosing 5 as number of clusters\n",
    "  kmeans.fit(data)\n",
    "  kmeans.predict(data)\n",
    "  print(kmeans.cluster_centers_)   #Printing the coordinates of cluster centers."
   ]
  },
  {
   "cell_type": "code",
   "execution_count": null,
   "metadata": {},
   "outputs": [],
   "source": [
    "k_mean_clustering2()"
   ]
  },
  {
   "cell_type": "code",
   "execution_count": null,
   "metadata": {},
   "outputs": [],
   "source": [
    "def k_mean_clustering3():\n",
    "  kmeans=KMeans(n_clusters=6, random_state=1)  #Cluster our data by choosing 6 as number of clusters\n",
    "  kmeans.fit(data)\n",
    "  kmeans.predict(data)\n",
    "  print(kmeans.cluster_centers_)   #Printing the coordinates of cluster centers."
   ]
  },
  {
   "cell_type": "code",
   "execution_count": null,
   "metadata": {},
   "outputs": [],
   "source": [
    "k_mean_clustering3()"
   ]
  },
  {
   "cell_type": "code",
   "execution_count": null,
   "metadata": {},
   "outputs": [],
   "source": [
    "\"\"\" The second result is the best one among those three \"\"\""
   ]
  },
  {
   "cell_type": "code",
   "execution_count": null,
   "metadata": {},
   "outputs": [],
   "source": [
    "def plot_k_mean_cluster():\n",
    "  plt.scatter(data[\"BALANCE\"][data[\"PURCHASES\"] < data[\"PURCHASES\"].mean()],          \n",
    "            data[\"PURCHASES\"][data[\"PURCHASES\"] < data[\"PURCHASES\"].mean()],s=80,c='magenta',label='Careful')\n",
    "  plt.scatter(data[\"BALANCE\"][data[\"PURCHASES\"] > data[\"PURCHASES\"].mean()],\n",
    "            data[\"PURCHASES\"][data[\"PURCHASES\"] > data[\"PURCHASES\"].mean()],s=80,c='yellow',label='Standard')\n",
    "  plt.title('Clusters of Customers')\n",
    "  plt.xlabel('BALANCE')\n",
    "  plt.ylabel('PURCHASES')\n",
    "  plt.legend()\n",
    "  plt.show()"
   ]
  },
  {
   "cell_type": "code",
   "execution_count": null,
   "metadata": {},
   "outputs": [],
   "source": [
    "plot_k_mean_cluster()"
   ]
  },
  {
   "cell_type": "code",
   "execution_count": null,
   "metadata": {},
   "outputs": [],
   "source": [
    "\"\"\" There is not much of a difference between the two clusters  \"\"\""
   ]
  },
  {
   "cell_type": "code",
   "execution_count": null,
   "metadata": {},
   "outputs": [],
   "source": []
  }
 ]
}